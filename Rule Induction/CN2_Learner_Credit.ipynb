{
 "cells": [
  {
   "cell_type": "code",
   "execution_count": 1,
   "metadata": {},
   "outputs": [],
   "source": [
    "import Orange"
   ]
  },
  {
   "cell_type": "code",
   "execution_count": 2,
   "metadata": {},
   "outputs": [
    {
     "data": {
      "text/plain": [
       "[income, age, loan | default]"
      ]
     },
     "execution_count": 2,
     "metadata": {},
     "output_type": "execute_result"
    }
   ],
   "source": [
    "df = Orange.data.Table('credit-data.csv')\n",
    "df.domain"
   ]
  },
  {
   "cell_type": "code",
   "execution_count": 3,
   "metadata": {},
   "outputs": [
    {
     "data": {
      "text/plain": [
       "([[66274.1, 21.8256, 11576.5 | 1],\n",
       "  [61398.7, 63.2944, 9008.15 | 0],\n",
       "  [65689.2, 28.1087, 255.073 | 0],\n",
       "  [43372.4, 55.1946, 474.525 | 0],\n",
       "  [59256.6, 38.5789, 9812.98 | 0],\n",
       "  ...\n",
       " ], [[64126.5, 19.2979, 4956.94 | 0],\n",
       "  [58074.8, 50.0749, 7388.02 | 0],\n",
       "  [52529.7, 18.8128, 9808.19 | 1],\n",
       "  [47586.2, 42.275, 3343.06 | 0],\n",
       "  [65913.8, 22.7891, 12972.4 | 1],\n",
       "  ...\n",
       " ])"
      ]
     },
     "execution_count": 3,
     "metadata": {},
     "output_type": "execute_result"
    }
   ],
   "source": [
    "splited_df = Orange.evaluation.testing.sample(df, n=0.25)\n",
    "splited_df"
   ]
  },
  {
   "cell_type": "code",
   "execution_count": 4,
   "metadata": {},
   "outputs": [
    {
     "name": "stdout",
     "output_type": "stream",
     "text": [
      "1500\n",
      "500\n"
     ]
    }
   ],
   "source": [
    "df_train = splited_df[1]\n",
    "df_test = splited_df[0]\n",
    "print(len(df_train))\n",
    "print(len(df_test))"
   ]
  },
  {
   "cell_type": "code",
   "execution_count": 5,
   "metadata": {},
   "outputs": [
    {
     "data": {
      "text/plain": [
       "CN2Classifier(domain=[income, age, loan | default],\n",
       "              rule_list=[<Orange.classification.rules.Rule at 0x7fac33972780>,\n",
       "               <Orange.classification.rules.Rule at 0x7fac33972b38>,\n",
       "               <Orange.classification.rules.Rule at 0x7fac33972b00>,\n",
       "               <Orange.classification.rules.Rule at 0x7fac33972748>,\n",
       "               <Orange.classification.rules.Rule at 0x7fac33972ba8>,\n",
       "               <Orange.classification.rules.Rule at 0x7fac33972a90>,\n",
       "               <Orange.classification.rules.Rule at 0x7fac339722b0>,\n",
       "               <Orange.classification.rules.Rule at 0x7fac33972da0>,\n",
       "               <Orange.classification.rules.Rule at 0x7fac33972588>,\n",
       "               <Orange.classification.rules.Rule at 0x7fac339727f0>,\n",
       "               <Orange.classification.rules.Rule at 0x7fac33972c18>,\n",
       "               <Orange.classification.rules.Rule at 0x7fac33972e80>,\n",
       "               <Orange.classification.rules.Rule at 0x7fac33972fd0>,\n",
       "               <Orange.classification.rules.Rule at 0x7fac338ea0f0>,\n",
       "               <Orange.classification.rules.Rule at 0x7fac338ea3c8>,\n",
       "               <Orange.classification.rules.Rule at 0x7fac338ea4e0>,\n",
       "               <Orange.classification.rules.Rule at 0x7fac338ea7b8>,\n",
       "               <Orange.classification.rules.Rule at 0x7fac338ea780>,\n",
       "               <Orange.classification.rules.Rule at 0x7fac338ea630>,\n",
       "               <Orange.classification.rules.Rule at 0x7fac338ea1d0>,\n",
       "               <Orange.classification.rules.Rule at 0x7fac338ea128>,\n",
       "               <Orange.classification.rules.Rule at 0x7fac338ea6a0>])"
      ]
     },
     "execution_count": 5,
     "metadata": {},
     "output_type": "execute_result"
    }
   ],
   "source": [
    "cn2_learner = Orange.classification.rules.CN2Learner()\n",
    "estimator = cn2_learner(df_train)\n",
    "estimator"
   ]
  },
  {
   "cell_type": "code",
   "execution_count": 6,
   "metadata": {},
   "outputs": [
    {
     "name": "stdout",
     "output_type": "stream",
     "text": [
      "IF age>=34.9257164876908 THEN default=0 \n",
      "IF loan<=2495.13299137587 AND income>=20145.9885970689 THEN default=0 \n",
      "IF income<=31702.3342987522 AND loan>=3675.83341454456 THEN default=1 \n",
      "IF loan>=7498.630446855849 AND loan>=9601.375482171099 THEN default=1 \n",
      "IF loan>=7365.93891557773 AND loan>=9595.28628892989 THEN default=0 \n",
      "IF loan>=7498.630446855849 AND age>=20.9909665295854 THEN default=1 \n",
      "IF income>=57596.3540980592 AND age>=19.5239827041514 THEN default=0 \n",
      "IF loan>=6043.14310633161 AND age>=23.6371360039338 THEN default=1 \n",
      "IF loan>=6994.48780081424 THEN default=1 \n",
      "IF income>=48790.1324336417 THEN default=0 \n",
      "IF loan>=5473.98555060076 AND loan>=5836.56338145928 THEN default=1 \n",
      "IF income<=22089.8374845274 AND age>=21.3656869572587 THEN default=1 \n",
      "IF income>=45360.716274008206 THEN default=0 \n",
      "IF loan>=4849.33378471958 AND age>=24.4157260977663 THEN default=1 \n",
      "IF income>=39019.357743673 THEN default=0 \n",
      "IF loan>=4285.38691174949 THEN default=1 \n",
      "IF income>=29724.4768752716 THEN default=0 \n",
      "IF loan>=2971.00330971188 THEN default=1 \n",
      "IF income<=22925.8120805025 THEN default=0 \n",
      "IF income<=25146.5956843458 THEN default=0 \n",
      "IF income<=27407.056202646298 THEN default=0 \n",
      "IF TRUE THEN default=0 \n"
     ]
    }
   ],
   "source": [
    "for regra in estimator.rule_list:\n",
    "    print(regra)"
   ]
  },
  {
   "cell_type": "code",
   "execution_count": 12,
   "metadata": {},
   "outputs": [
    {
     "data": {
      "text/plain": [
       "array([0.984])"
      ]
     },
     "execution_count": 12,
     "metadata": {},
     "output_type": "execute_result"
    }
   ],
   "source": [
    "result = Orange.evaluation.testing.TestOnTestData(df_train, df_test, [lambda testdata: estimator])\n",
    "Orange.evaluation.CA(result)"
   ]
  },
  {
   "cell_type": "code",
   "execution_count": 14,
   "metadata": {},
   "outputs": [
    {
     "name": "stdout",
     "output_type": "stream",
     "text": [
      "Precision: 98.4%\n"
     ]
    }
   ],
   "source": [
    "print('Precision: {}%'.format(Orange.evaluation.CA(result)[0]*100))"
   ]
  },
  {
   "cell_type": "code",
   "execution_count": null,
   "metadata": {},
   "outputs": [],
   "source": []
  }
 ],
 "metadata": {
  "kernelspec": {
   "display_name": "Python 3",
   "language": "python",
   "name": "python3"
  },
  "language_info": {
   "codemirror_mode": {
    "name": "ipython",
    "version": 3
   },
   "file_extension": ".py",
   "mimetype": "text/x-python",
   "name": "python",
   "nbconvert_exporter": "python",
   "pygments_lexer": "ipython3",
   "version": "3.7.3"
  }
 },
 "nbformat": 4,
 "nbformat_minor": 2
}
