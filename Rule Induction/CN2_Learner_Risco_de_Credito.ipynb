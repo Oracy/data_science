{
 "cells": [
  {
   "cell_type": "code",
   "execution_count": 2,
   "metadata": {},
   "outputs": [],
   "source": [
    "import Orange"
   ]
  },
  {
   "cell_type": "code",
   "execution_count": 3,
   "metadata": {},
   "outputs": [
    {
     "data": {
      "text/plain": [
       "[historia, divida, garantias, renda | risco]"
      ]
     },
     "execution_count": 3,
     "metadata": {},
     "output_type": "execute_result"
    }
   ],
   "source": [
    "df = Orange.data.Table('risco-credito.csv')\n",
    "df.domain"
   ]
  },
  {
   "cell_type": "code",
   "execution_count": 4,
   "metadata": {},
   "outputs": [
    {
     "data": {
      "text/plain": [
       "CN2Learner(base_rules=[])"
      ]
     },
     "execution_count": 4,
     "metadata": {},
     "output_type": "execute_result"
    }
   ],
   "source": [
    "# 1989 algorithm\n",
    "cn2_learner = Orange.classification.rules.CN2Learner()\n",
    "cn2_learner"
   ]
  },
  {
   "cell_type": "code",
   "execution_count": 6,
   "metadata": {},
   "outputs": [
    {
     "data": {
      "text/plain": [
       "CN2Classifier(domain=[historia, divida, garantias, renda | risco],\n",
       "              rule_list=[<Orange.classification.rules.Rule at 0x7f91c4445780>,\n",
       "               <Orange.classification.rules.Rule at 0x7f91c4445438>,\n",
       "               <Orange.classification.rules.Rule at 0x7f91c4445e10>,\n",
       "               <Orange.classification.rules.Rule at 0x7f91c4445f98>,\n",
       "               <Orange.classification.rules.Rule at 0x7f91c44452b0>,\n",
       "               <Orange.classification.rules.Rule at 0x7f91c4439cc0>,\n",
       "               <Orange.classification.rules.Rule at 0x7f91c4447358>,\n",
       "               <Orange.classification.rules.Rule at 0x7f91c4447128>,\n",
       "               <Orange.classification.rules.Rule at 0x7f91c44470f0>,\n",
       "               <Orange.classification.rules.Rule at 0x7f91c4447208>,\n",
       "               <Orange.classification.rules.Rule at 0x7f91c4447320>])"
      ]
     },
     "execution_count": 6,
     "metadata": {},
     "output_type": "execute_result"
    }
   ],
   "source": [
    "estimator = cn2_learner(df)\n",
    "estimator"
   ]
  },
  {
   "cell_type": "code",
   "execution_count": 7,
   "metadata": {},
   "outputs": [
    {
     "name": "stdout",
     "output_type": "stream",
     "text": [
      "IF renda==0_15 THEN risco=alto \n",
      "IF historia==boa AND divida!=alta THEN risco=baixo \n",
      "IF historia==boa AND garantias!=nenhuma THEN risco=baixo \n",
      "IF historia==boa AND renda!=15_35 THEN risco=baixo \n",
      "IF historia==boa THEN risco=moderado \n",
      "IF divida==alta THEN risco=alto \n",
      "IF historia!=desconhecida THEN risco=moderado \n",
      "IF garantias==adequada THEN risco=baixo \n",
      "IF renda==15_35 THEN risco=moderado \n",
      "IF historia==desconhecida THEN risco=baixo \n",
      "IF TRUE THEN risco=alto \n"
     ]
    }
   ],
   "source": [
    "for regras in estimator.rule_list:\n",
    "    print(regras)"
   ]
  },
  {
   "cell_type": "code",
   "execution_count": 12,
   "metadata": {},
   "outputs": [
    {
     "data": {
      "text/plain": [
       "array([1, 0])"
      ]
     },
     "execution_count": 12,
     "metadata": {},
     "output_type": "execute_result"
    }
   ],
   "source": [
    "# historia boa, divida alta, garantia nenhuma, renda > 35\n",
    "# historia ruim, divida alta, garantia adequada, renda < 15\n",
    "result = estimator([['boa', 'alta', 'nenhuma', 'acima_35']\n",
    "                    , ['ruim', 'alta', 'adequada', '0_15']])\n",
    "result"
   ]
  },
  {
   "cell_type": "code",
   "execution_count": 13,
   "metadata": {},
   "outputs": [
    {
     "name": "stdout",
     "output_type": "stream",
     "text": [
      "baixo\n",
      "alto\n"
     ]
    }
   ],
   "source": [
    "for i in result:\n",
    "    print(df.domain.class_var.values[i])"
   ]
  },
  {
   "cell_type": "code",
   "execution_count": null,
   "metadata": {},
   "outputs": [],
   "source": []
  }
 ],
 "metadata": {
  "kernelspec": {
   "display_name": "Python 3",
   "language": "python",
   "name": "python3"
  },
  "language_info": {
   "codemirror_mode": {
    "name": "ipython",
    "version": 3
   },
   "file_extension": ".py",
   "mimetype": "text/x-python",
   "name": "python",
   "nbconvert_exporter": "python",
   "pygments_lexer": "ipython3",
   "version": "3.7.3"
  }
 },
 "nbformat": 4,
 "nbformat_minor": 2
}
